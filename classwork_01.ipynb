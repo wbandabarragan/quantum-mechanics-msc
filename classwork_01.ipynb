{
  "cells": [
    {
      "cell_type": "markdown",
      "metadata": {
        "id": "view-in-github",
        "colab_type": "text"
      },
      "source": [
        "<a href=\"https://colab.research.google.com/github/wbandabarragan/quantum-mechanics-msc/blob/main/classwork_01.ipynb\" target=\"_parent\"><img src=\"https://colab.research.google.com/assets/colab-badge.svg\" alt=\"Open In Colab\"/></a>"
      ]
    },
    {
      "cell_type": "markdown",
      "id": "dcbbcbc1",
      "metadata": {
        "id": "dcbbcbc1"
      },
      "source": [
        "# Classwork 1 - QM for Nanosciences"
      ]
    },
    {
      "cell_type": "markdown",
      "id": "aedbb722",
      "metadata": {
        "id": "aedbb722"
      },
      "source": [
        "## Names:"
      ]
    },
    {
      "cell_type": "markdown",
      "id": "8e266050",
      "metadata": {
        "id": "8e266050"
      },
      "source": [
        "### Deadline:\n",
        "\n",
        "Sunday 11th December 2022 (by 5pm)\n",
        "\n",
        "\n",
        "### Instructions:\n",
        "\n",
        "- The assignment should be written and submitted in groups of 2 people.\n",
        "\n",
        "\n",
        "- When you finish, please add your names, download your ipynb file, and send it to my email: wbanda@yachaytech.edu.ec"
      ]
    },
    {
      "cell_type": "markdown",
      "id": "02f7283e",
      "metadata": {
        "id": "02f7283e"
      },
      "source": [
        "### Problem 1\n",
        "\n",
        "1. Write python functions to compute the spectral radiance of a body for different frequencies, $\\nu$, and different (absolute) temperatures, $T$, according to the Rayleigh-Jeans and the Planck laws.\n",
        "\n",
        "\n",
        "2. Add a label indicating the UV side of the spectrum.\n",
        "\n",
        "\n",
        "3. Now, make the plots of spectral radiance versus wavelength, also for both laws.\n",
        "\n",
        "\n",
        "4. Repeat the plot adding markers to show the expectation values according to Wien's displacement law for a couple of temperature-wavelength pairs."
      ]
    },
    {
      "cell_type": "markdown",
      "id": "3112c07f",
      "metadata": {
        "id": "3112c07f"
      },
      "source": [
        "### Problem 2\n",
        "\n",
        "1. Make a plot of the Solar spectrum, which can be found here: https://github.com/wbandabarragan/quantum-mechanics-msc/blob/main/data/AM0AM1_5.csv\n",
        "\n",
        "    **Hint:** Don't forget to consider the solid angle (we are far away from the Sun!).\n",
        "\n",
        "\n",
        "2. Corroborate whether or not it follows Planck’s law. Is the Sun a black body?\n",
        "\n",
        "\n",
        "3. What is the temperature of the Sun?"
      ]
    },
    {
      "cell_type": "markdown",
      "id": "d78d85db",
      "metadata": {
        "id": "d78d85db"
      },
      "source": [
        "### Problem 3: Compton scattering\n",
        "\n",
        "Suppose we have an experiment in which monochromatic light is scattered by an electron. Use python functions to carry. out the following calculations:\n",
        "\n",
        "1. Find the shift in the wavelength of the light when the scattering angle is $30^{\\circ}$.\n",
        "\n",
        "\n",
        "2. If the incident light has a $\\lambda=600\\,\\rm nm$ (i.e. photons are in the visible region), what is the fractional increase in the wavelength, $\\frac{\\Delta\\lambda}{\\lambda}$?\n",
        "\n",
        "\n",
        "3. If the incident light has a $\\lambda=0.05\\,\\rm nm$ (i.e. photons are in the X-ray region), what is the fractional increase in the wavelength, $\\frac{\\Delta\\lambda}{\\lambda}$?\n",
        "\n",
        "\n",
        "4. Briefly exaplin, why were X-rays used by Compton in his experiments?"
      ]
    },
    {
      "cell_type": "markdown",
      "id": "b1e8d52b",
      "metadata": {
        "id": "b1e8d52b"
      },
      "source": [
        "### Problem 4: Compton and de Broglie wavelengths\n",
        "\n",
        "1. Calculate the Compton wavelength of an electron.\n",
        "\n",
        "\n",
        "2. Calculate the Compton wavelength of a proton.\n",
        "\n",
        "\n",
        "3. What can happen if you shine the above electron with a photon with that wavelength? Why?\n",
        "\n",
        "\n",
        "4. Calculate the de Broglie wavelength of a (macro)particle of diameter $10\\,\\rm\\mu m$ with a mass of $m=10^{-12}\\,\\rm kg$ that is moving at a speed of $50\\,\\rm mm\\,s^{-1}$.\n",
        "\n",
        "\n",
        "5. Based on the result above, are the wave properties of matter relevant in the macroscopic world? Why?"
      ]
    },
    {
      "cell_type": "markdown",
      "id": "37335f14",
      "metadata": {
        "id": "37335f14"
      },
      "source": [
        "### Problem 5: The photoelectric effect\n",
        "\n",
        "Consider an experiment of the photoelectric effect. The experiment consists of setting up an electric circuit embedding plates of different metals. We illuminate the first plate with a beam of photons of certain wavelength, $\\lambda$, and as the photons interact with the metal plate, electrons are ejected from it. The electrons then reach the second plate and an electric current emerges. To prevent these electrons from reaching the second plate, we can increase the voltage until the electric current becomes zero in the circuit. The voltage value at which this happens is called \"stopping potential\", $V_0$, which is defined as the potential needed to stop the photo-electrons with the largest kinetic energy (so $K_{max}=e\\,V_0$) at a specific wavelength $\\lambda$.\n",
        "\n",
        "Report all the answers in SI units, and recall that the Planck constant is $h=6.626\\times 10^{-34}\\,\\rm J\\,s$, the speed of light is $c=3\\times 10^{8}\\,\\rm m\\,s^{-1}$, the electron mass is $m_e=9.11\\times 10^{-31}\\,\\rm kg$, and the electron charge in $e=1.6\\times 10^{-19}\\,\\rm c$.\n",
        "\n",
        "### **1. Experiment (4 points):**\n",
        "\n",
        "Carry out the experiment and collect $10$ data points for $2$ different metals using this applet:\n",
        "\n",
        "https://applets.kcvs.ca/photoelectricEffect/PhotoElectric.html\n",
        "\n",
        "To collect the data, choose a metal, fix a wavelength, and vary the voltage until the current becomes zero. When this happens, push \"record data points\". Then, vary the wavelength and repeat the process. When you have 10 data points for the first metal, choose another metal and repeat the experiment. At the end, you should have a data table with 20 data points, 10 for each metal. Export the CSV file with the data, place it into your working directory.\n",
        "\n",
        "\n",
        "### **2. Data I/O (4 points):**\n",
        "\n",
        "Using a Python notebook, open and read the CSV data file containing the data from the experiment, and make two high-quality labeled scattered plots, one for each metal, with the maximum kinetic energy ($K_{\\rm max}$) in the Y-axis and frequency on the X-axis. Note: use markers to display the experimental data.\n",
        "\n",
        "\n",
        "### **3. Regression and fitting (4 points):**\n",
        "\n",
        "(a) For each metal, define a good model to describe the data. Then, use Python functions to carry out a regression and find a funtion that fits the data. \n",
        "\n",
        "(b) Report the equations for each metal and make two high-quality labeled plots, one for each metal, containing the experimental data and the fitting function. Note: Use markers for the experimental data and lines for the fitting functions.\n",
        "\n",
        "(c) Then, make a new figure combining the data and fitting functions for both metals. Which metal has a higher cutoff frequency? Remember that the cutoff frequency is the critical frequency needed to remove electrons from the metal piece, below it we do not remove any.\n",
        "\n",
        "\n",
        "(d) Compare the values of the slopes of the fitted curves. What do you find? What does the slope of the curves represent?\n",
        "\n",
        "\n",
        "### **4. Calculations (4 points):**\n",
        "\n",
        "Using the fitting functions calculated in (3), carry out the following calculations in Python:\n",
        "\n",
        "a) Calculate the work function, $\\phi$, for each metal, and the relative errors with respect to the known values (use the Internet to research what these values are). Remember that the work function is the (threshold) energy needed to remove electrons from the metal piece.\n",
        "\n",
        "\n",
        "b) Calculate the cutoff wavelength, $\\lambda_{\\rm cutoff}$, for each metal. Remember that the cutoff wavelength is the critical wavelength needed to remove electrons from the metal piece, above which we do not remove any.\n",
        "\n",
        "\n",
        "c) Calculate the maximum speed of the electrons ejected from the metal pieces for two light beams of $\\lambda_1=300\\rm nm$ and $\\lambda_2=700\\rm nm$.\n",
        "\n",
        "\n",
        "d) Make a combined graph of $K_{\\rm max}$ versus $\\lambda$, for both metals, labeling the data points for both light beams."
      ]
    }
  ],
  "metadata": {
    "kernelspec": {
      "display_name": "Python 3 (ipykernel)",
      "language": "python",
      "name": "python3"
    },
    "language_info": {
      "codemirror_mode": {
        "name": "ipython",
        "version": 3
      },
      "file_extension": ".py",
      "mimetype": "text/x-python",
      "name": "python",
      "nbconvert_exporter": "python",
      "pygments_lexer": "ipython3",
      "version": "3.8.13"
    },
    "colab": {
      "provenance": [],
      "include_colab_link": true
    }
  },
  "nbformat": 4,
  "nbformat_minor": 5
}