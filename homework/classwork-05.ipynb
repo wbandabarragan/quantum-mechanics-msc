{
  "nbformat": 4,
  "nbformat_minor": 0,
  "metadata": {
    "colab": {
      "provenance": [],
      "authorship_tag": "ABX9TyPXt1e/6O10iqi6nHUvfS16",
      "include_colab_link": true
    },
    "kernelspec": {
      "name": "python3",
      "display_name": "Python 3"
    },
    "language_info": {
      "name": "python"
    }
  },
  "cells": [
    {
      "cell_type": "markdown",
      "metadata": {
        "id": "view-in-github",
        "colab_type": "text"
      },
      "source": [
        "<a href=\"https://colab.research.google.com/github/wbandabarragan/quantum-mechanics-msc/blob/main/homework/classwork-05.ipynb\" target=\"_parent\"><img src=\"https://colab.research.google.com/assets/colab-badge.svg\" alt=\"Open In Colab\"/></a>"
      ]
    },
    {
      "cell_type": "markdown",
      "source": [
        "## Finite square well potential\n",
        "\n",
        "This potential allows:\n",
        "\n",
        "Bound states: $E<0$\n",
        "\n",
        "Scattering states: $E>0$\n",
        "\n",
        "For bound states, the wavenumbers and energies are quantised:\n",
        "\n",
        "$tan(z) = \\sqrt{\\frac{z_0^2}{z^2} -1}$\n",
        "\n",
        "where $z=la$\n",
        "\n",
        "$l=\\frac{\\sqrt{2m(E+V_0)}}{\\hbar}$\n",
        "\n",
        "$k=l\\,tan(la) = \\frac{\\sqrt{-2mE}}{\\hbar}$"
      ],
      "metadata": {
        "id": "9hNhLBq-6gEx"
      }
    },
    {
      "cell_type": "code",
      "execution_count": null,
      "metadata": {
        "id": "BrTEAodW5Uzy"
      },
      "outputs": [],
      "source": [
        "##"
      ]
    }
  ]
}