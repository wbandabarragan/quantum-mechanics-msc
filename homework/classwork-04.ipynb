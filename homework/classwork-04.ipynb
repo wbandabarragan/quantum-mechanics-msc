{
<<<<<<< HEAD
 "cells": [
  {
   "cell_type": "markdown",
   "id": "bb2cb17c",
   "metadata": {},
   "source": [
    "## Problem 1 (statistical distributions):\n",
    "\n",
    "Imagine a room containing fourteen people, whose ages are as follows: one person aged 14, one person aged 15, three people aged 16, two people aged 22, two people aged 24, five people aged 25.\n",
    "\n",
    "Age is represented by $j$:\n",
    "\n",
    "(a) Make a histogram.\n",
    "\n",
    "(b) Compute $<j>^2$ and $<j^2>$.\n",
    "\n",
    "(c) Compute the $\\sigma_j=\\sqrt{<j^2> - <j>^2}$\n",
    "\n",
    "(d) Compute the standard deviation using python function and compare with (b)."
   ]
  },
  {
   "cell_type": "code",
   "execution_count": null,
   "id": "e7d722c2",
   "metadata": {},
   "outputs": [],
   "source": []
  },
  {
   "cell_type": "markdown",
   "id": "3b965845",
   "metadata": {},
   "source": [
    "## Problem 2 (Gaussian functions):\n",
    "\n",
    "Consider the Gaussian distribution:\n",
    "\n",
    "$\\rho(x) = A\\,e^{−\\lambda\\,(x−a)^2}$\n",
    "\n",
    "where: $A = \\sqrt{\\frac{\\lambda}{\\pi}}$, $a$, $\\lambda$ are positive real constants.\n",
    "\n",
    "Sketch $\\rho(x)$ versus $x$ for different values of $A$, $a$ and $\\lambda$."
   ]
  },
  {
   "cell_type": "code",
   "execution_count": null,
   "id": "3c2e0907",
   "metadata": {},
   "outputs": [],
   "source": []
  },
  {
   "cell_type": "markdown",
   "id": "f6069993",
   "metadata": {},
   "source": [
    "## Problem 3 (wave superposition):\n",
    "\n",
    "Consider the following linear combination of sine waves:\n",
    "\n",
    "$y(x) = \\sin(x) + \\sin(2x) + \\sin(4x)$\n",
    "\n",
    "Create a representation of the linear combination."
   ]
  },
  {
   "cell_type": "code",
   "execution_count": null,
   "id": "cb84a966",
   "metadata": {},
   "outputs": [],
   "source": []
  }
 ],
 "metadata": {
  "kernelspec": {
   "display_name": "Python 3 (ipykernel)",
   "language": "python",
   "name": "python3"
  },
  "language_info": {
   "codemirror_mode": {
    "name": "ipython",
    "version": 3
   },
   "file_extension": ".py",
   "mimetype": "text/x-python",
   "name": "python",
   "nbconvert_exporter": "python",
   "pygments_lexer": "ipython3",
   "version": "3.7.13"
  }
 },
 "nbformat": 4,
 "nbformat_minor": 5
}
=======
  "cells": [
    {
      "cell_type": "markdown",
      "metadata": {
        "id": "view-in-github",
        "colab_type": "text"
      },
      "source": [
        "<a href=\"https://colab.research.google.com/github/wbandabarragan/quantum-mechanics-msc/blob/main/homework/classwork-03.ipynb\" target=\"_parent\"><img src=\"https://colab.research.google.com/assets/colab-badge.svg\" alt=\"Open In Colab\"/></a>"
      ]
    },
    {
      "cell_type": "markdown",
      "id": "dcbbcbc1",
      "metadata": {
        "id": "dcbbcbc1"
      },
      "source": [
        "# Classwork 3 - QM for Nanosciences\n",
        "\n",
        "### Deadline:\n",
        "\n",
        "Sunday 18th December 2022 (by 5pm)\n",
        "\n",
        "\n",
        "### Instructions:\n",
        "\n",
        "- The assignment should be written and submitted individually.\n",
        "\n",
        "- When you finish, please add your names, download your ipynb file, and send it to my email: wbanda@yachaytech.edu.ec"
      ]
    },
    {
      "cell_type": "markdown",
      "id": "aedbb722",
      "metadata": {
        "id": "aedbb722"
      },
      "source": [
        "## Names:"
      ]
    },
    {
      "cell_type": "markdown",
      "id": "8e266050",
      "metadata": {
        "id": "8e266050"
      },
      "source": [
        "### Deadline:\n",
        "\n",
        "Sunday 18th December 2022 (by 5pm)\n",
        "\n",
        "\n",
        "### Instructions:\n",
        "\n",
        "- The assignment should be written and submitted in groups of 2 people.\n",
        "\n",
        "\n",
        "- When you finish, please add your names, download your ipynb file, and send it to my email: wbanda@yachaytech.edu.ec"
      ]
    },
    {
      "cell_type": "markdown",
      "id": "d78d85db",
      "metadata": {
        "id": "d78d85db"
      },
      "source": [
        "### Problem 1: Compton scattering\n",
        "\n",
        "Suppose we have an experiment in which monochromatic light is scattered by an electron. Use python functions to carry out the following calculations:\n",
        "\n",
        "1. Find the shift in the wavelength of the light when the scattering angle is $30^{\\circ}$.\n",
        "\n",
        "\n",
        "2. If the incident light has a $\\lambda=600\\,\\rm nm$ (i.e. photons are in the visible region), what is the fractional increase in the wavelength, $\\frac{\\Delta\\lambda}{\\lambda}$?\n",
        "\n",
        "\n",
        "3. If the incident light has a $\\lambda=0.05\\,\\rm nm$ (i.e. photons are in the X-ray region), what is the fractional increase in the wavelength, $\\frac{\\Delta\\lambda}{\\lambda}$?\n",
        "\n",
        "\n",
        "4. Briefly exaplin, why were X-rays used by Compton in his experiments?"
      ]
    },
    {
      "cell_type": "markdown",
      "id": "b1e8d52b",
      "metadata": {
        "id": "b1e8d52b"
      },
      "source": [
        "### Problem 2: Compton and de Broglie wavelengths\n",
        "\n",
        "Create and use python functions to: \n",
        "\n",
        "1. Calculate the Compton wavelength of an electron.\n",
        "\n",
        "\n",
        "2. Calculate the Compton wavelength of a proton.\n",
        "\n",
        "\n",
        "3. What can happen if you shine the above electron with a photon with that wavelength? Why?\n",
        "\n",
        "\n",
        "4. Calculate the de Broglie wavelength of a (macro)particle of diameter $10\\,\\rm\\mu m$ with a mass of $m=10^{-12}\\,\\rm kg$ that is moving at a speed of $50\\,\\rm mm\\,s^{-1}$.\n",
        "\n",
        "5. Calculate the de Broglie wavelength of a car of length $3\\,\\rm m$ with a mass of $m=10^3\\,\\rm kg$ that is moving at a speed of $50\\,\\rm km\\,h^{-1}$.\n",
        "\n",
        "6. Calculate the de Broglie wavelength of an electron (in a hydrogen atom, which has an estimated size of $0.12\\,\\rm nm$) with a mass of $m_e=9.1\\times10^{-31}\\,\\rm kg$ that is moving at a speed of $2200\\times 10^3\\,\\rm m\\,s^{-1}$.\n",
        "\n",
        "7. Based on the result above, are the wave properties of matter relevant in the macroscopic world? Why?"
      ]
    },
    {
      "cell_type": "code",
      "source": [],
      "metadata": {
        "id": "sP60oPJjphE4"
      },
      "id": "sP60oPJjphE4",
      "execution_count": null,
      "outputs": []
    }
  ],
  "metadata": {
    "kernelspec": {
      "display_name": "Python 3 (ipykernel)",
      "language": "python",
      "name": "python3"
    },
    "language_info": {
      "codemirror_mode": {
        "name": "ipython",
        "version": 3
      },
      "file_extension": ".py",
      "mimetype": "text/x-python",
      "name": "python",
      "nbconvert_exporter": "python",
      "pygments_lexer": "ipython3",
      "version": "3.8.13"
    },
    "colab": {
      "provenance": [],
      "include_colab_link": true
    }
  },
  "nbformat": 4,
  "nbformat_minor": 5
}
>>>>>>> fdba9a4ffa5f73b5e581a322facb61b6ac626f89
