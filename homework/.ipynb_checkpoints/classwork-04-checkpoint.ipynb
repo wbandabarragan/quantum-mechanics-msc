{
 "cells": [
  {
   "cell_type": "markdown",
   "id": "52410316",
   "metadata": {},
   "source": [
    "## Problem 1 (statistical distributions):\n",
    "\n",
    "Imagine a room containing fourteen people, whose ages are as follows: one person aged 14, one person aged 15, three people aged 16, two people aged 22, two people aged 24, five people aged 25.\n",
    "\n",
    "Age is represented by $j$:\n",
    "\n",
    "(a) Make a histogram.\n",
    "\n",
    "(b) Compute $<j>^2$ and $<j^2>$.\n",
    "\n",
    "(c) Compute the $\\sigma_j=\\sqrt{<j^2> - <j>^2}$\n",
    "\n",
    "(d) Compute the standard deviation using python function and compare with (b)."
   ]
  },
  {
   "cell_type": "code",
   "execution_count": null,
   "id": "8c0ad4ff",
   "metadata": {},
   "outputs": [],
   "source": []
  },
  {
   "cell_type": "markdown",
   "id": "2fab7dbb",
   "metadata": {},
   "source": [
    "## Problem 2 (Gaussian functions):\n",
    "\n",
    "Consider the Gaussian distribution:\n",
    "\n",
    "$\\rho(x) = A\\,e^{−\\lambda\\,(x−a)^2}$\n",
    "\n",
    "where: $A = \\sqrt{\\frac{\\lambda}{\\pi}}$, $a$, $\\lambda$ are positive real constants.\n",
    "\n",
    "Sketch $\\rho(x)$ versus $x$ for different values of $A$, $a$ and $\\lambda$."
   ]
  },
  {
   "cell_type": "code",
   "execution_count": null,
   "id": "ac8775a0",
   "metadata": {},
   "outputs": [],
   "source": []
  },
  {
   "cell_type": "markdown",
   "id": "68f17588",
   "metadata": {},
   "source": [
    "## Problem 3 (wave superposition):\n",
    "\n",
    "Consider the following linear combination of sine waves:\n",
    "\n",
    "$y(x) = \\sin(x) + \\sin(2x) + \\sin(4x)$\n",
    "\n",
    "Create a representation of the linear combination."
   ]
  },
  {
   "cell_type": "code",
   "execution_count": null,
   "id": "870b0a16",
   "metadata": {},
   "outputs": [],
   "source": []
  }
 ],
 "metadata": {
  "kernelspec": {
   "display_name": "Python 3 (ipykernel)",
   "language": "python",
   "name": "python3"
  },
  "language_info": {
   "codemirror_mode": {
    "name": "ipython",
    "version": 3
   },
   "file_extension": ".py",
   "mimetype": "text/x-python",
   "name": "python",
   "nbconvert_exporter": "python",
   "pygments_lexer": "ipython3",
   "version": "3.7.13"
  }
 },
 "nbformat": 4,
 "nbformat_minor": 5
}
