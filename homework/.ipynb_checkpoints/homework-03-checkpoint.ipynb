{
 "cells": [
  {
   "cell_type": "markdown",
   "id": "dcbbcbc1",
   "metadata": {},
   "source": [
    "# Homework 3 - QM for Nanosciences\n",
    "\n",
    "### Deadline:\n",
    "\n",
    "Friday 13th January 2023 (by 5pm)\n",
    "\n",
    "\n",
    "### Instructions:\n",
    "\n",
    "- The assignment should be written and submitted individually.\n",
    "\n",
    "\n",
    "- Carefully read the fragment of the Griffith's book of quantum mechanics on the statistical intepretation of the wave function and the electron interference experiment. \n",
    "\n",
    "\n",
    "- Using Overleaf, write a **1-page essay** on the \"Statistical Intepretation of Quantum Mechanics\". The essay should be written in English, and should briefly explain the statistical intepretation, the different views that existed, and the correct interpretation. \n",
    "\n",
    "\n",
    "- Don't forget to adequately cite all the references that you use to write your essay.\n",
    "\n",
    "\n",
    "- When you finish, please share the Overleaf link of your essay with my email address: wbanda@yachaytech.edu.ec\n",
    "\n",
    "\n",
    "### Paper:\n",
    "\n",
    "A digital copy of the book fragment can be found here:\n",
    "\n",
    "https://github.com/wbandabarragan/quantum-mechanics-msc/blob/main/reading-material/paper-02.pdf"
   ]
  }
 ],
 "metadata": {
  "kernelspec": {
   "display_name": "Python 3 (ipykernel)",
   "language": "python",
   "name": "python3"
  },
  "language_info": {
   "codemirror_mode": {
    "name": "ipython",
    "version": 3
   },
   "file_extension": ".py",
   "mimetype": "text/x-python",
   "name": "python",
   "nbconvert_exporter": "python",
   "pygments_lexer": "ipython3",
   "version": "3.7.13"
  }
 },
 "nbformat": 4,
 "nbformat_minor": 5
}
