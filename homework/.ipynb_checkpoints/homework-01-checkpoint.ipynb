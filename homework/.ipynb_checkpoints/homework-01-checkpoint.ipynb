{
 "cells": [
  {
   "cell_type": "markdown",
   "id": "7d517061",
   "metadata": {},
   "source": [
    "# Homework 1 - QM for Nanosciences\n",
    "\n",
    "### Deadline:\n",
    "\n",
    "Sunday 11th December 2022 (by 5pm)\n",
    "\n",
    "### Instructions:\n",
    "\n",
    "- The assignment should be written individually.\n",
    "\n",
    "\n",
    "- Read the Kleppner & Jackiw 2000 paper on the 100th-year anniversary on QM, plus any other material you deem necessary, and write a 1-page essay with the title: **\"Quantum Mechanics and its importance to Nanosciences\"**\n",
    "\n",
    "\n",
    "- The essay should be written in English, and should briefly introduce quantum mechanics and explain what its role has been in the development of nanosciences.\n",
    "\n",
    "\n",
    "- When you finish, please send your essay in PDF format to my email: wbanda@yachaytech.edu.ec"
   ]
  }
 ],
 "metadata": {
  "kernelspec": {
   "display_name": "Python 3 (ipykernel)",
   "language": "python",
   "name": "python3"
  },
  "language_info": {
   "codemirror_mode": {
    "name": "ipython",
    "version": 3
   },
   "file_extension": ".py",
   "mimetype": "text/x-python",
   "name": "python",
   "nbconvert_exporter": "python",
   "pygments_lexer": "ipython3",
   "version": "3.9.12"
  }
 },
 "nbformat": 4,
 "nbformat_minor": 5
}
