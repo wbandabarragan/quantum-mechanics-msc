{
 "cells": [
  {
   "cell_type": "markdown",
   "id": "dcbbcbc1",
   "metadata": {},
   "source": [
    "# Homework 1 - QM for Nanosciences\n",
    "\n",
    "### Deadline:\n",
    "\n",
    "Saturday 10th December 2022 (by 8am)\n",
    "\n",
    "\n",
    "### Instructions:\n",
    "\n",
    "- We will use computational tools to study quantum mechanical systems. Thus, Homework 1 consists of making yourself familiar with jupyter notebooks and basic python code.\n",
    "\n",
    "- I have written some notes to help you get started with python programming and jupyter notebooks. Before our first class, please read these instructions carefully:\n",
    "\n",
    "\n"
   ]
  }
 ],
 "metadata": {
  "kernelspec": {
   "display_name": "Python 3 (ipykernel)",
   "language": "python",
   "name": "python3"
  },
  "language_info": {
   "codemirror_mode": {
    "name": "ipython",
    "version": 3
   },
   "file_extension": ".py",
   "mimetype": "text/x-python",
   "name": "python",
   "nbconvert_exporter": "python",
   "pygments_lexer": "ipython3",
   "version": "3.9.12"
  }
 },
 "nbformat": 4,
 "nbformat_minor": 5
}
