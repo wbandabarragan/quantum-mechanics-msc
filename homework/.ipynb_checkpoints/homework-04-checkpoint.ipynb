{
 "cells": [
  {
   "cell_type": "markdown",
   "id": "ab4c8caf",
   "metadata": {},
   "source": [
    "### Particle in an infinite square well potential\n",
    "\n",
    "Consider a particle of mass $m$ moving in a small space surrounded by impenetrable barriers.\n",
    "\n",
    "The potential, $V(x)$, is given by the following piecewise function:\n",
    "\n",
    "$   \n",
    "V(x)= \n",
    "     \\begin{cases}\n",
    "       0, & 0 \\leq x \\leq a\\\\\n",
    "       \\infty, & \\rm elsewhere\\\\\n",
    "     \\end{cases}\n",
    "$\n",
    "\n",
    "Since $V(x)$ is time-independent, the solutions to the Schrödinger equation can be separated into spatial and temporal wave functions:\n",
    "\n",
    "$\\Psi(x,t) = \\psi_n(x)\\,e^{-i\\frac{E_n}{\\hbar}t}$\n",
    "\n",
    "As you know, the last term is called the \"wiggle factor\".\n",
    "\n",
    "**The purpose of this problem is to find the stationary state solutions and sketch them using python tools**.\n",
    "\n",
    "**(a)** Use python to make a plot of $V(x)$, labelling the regions of interest (i.e., the barriers and well). **Hint:** Note that $V(x)$ is a piece-wise function that can be $+\\infty$ at the barriers, so you can define very large y-values for the barriers and then chop the y-axis when plotting to show just the bottom part.\n",
    "\n",
    "**(b)** What is the wave function outside of the well? Why? Write down this solution.\n",
    "\n",
    "**(c)** Write down the relevant ODE for the particle inside the well.\n",
    "\n",
    "**(d)** Use sympy to solve the ODE for the particle inside the well. Write down the solution.\n",
    "\n",
    "**(e)** Now you have stationary state solutions for inside and outside of the well, but the coefficients are still undefined. Write down the relevant boundary conditions (linear system of equations) to simplify the solution and to find an expression for $E_n$. **Hint:** Recall that $\\psi$ needs to be continuous.\n",
    "\n",
    "**(f)** Use sympy to normalise the resulting wave function, and write down the global solution. **Hint:** This involves calculating the integral of an analytical function.\n",
    "\n",
    "**(g)** Inside a python function, plug some ansatz and make plots of the first $4$ stationary states, $\\Psi(x,0)$, at time $t=0$. **Hint:** Note that these have to be energy eigenstates.\n",
    "\n",
    "**(h)** Now append the wiggle factor, call the above function for different times, and create a movie with $4$ panels showing how the first $4$ stationary states $\\Psi(x,t)$ evolve in time. Add a time stamp to the movies."
   ]
  }
 ],
 "metadata": {
  "kernelspec": {
   "display_name": "Python 3 (ipykernel)",
   "language": "python",
   "name": "python3"
  },
  "language_info": {
   "codemirror_mode": {
    "name": "ipython",
    "version": 3
   },
   "file_extension": ".py",
   "mimetype": "text/x-python",
   "name": "python",
   "nbconvert_exporter": "python",
   "pygments_lexer": "ipython3",
   "version": "3.7.13"
  }
 },
 "nbformat": 4,
 "nbformat_minor": 5
}
