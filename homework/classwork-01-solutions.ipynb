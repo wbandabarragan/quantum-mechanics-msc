{
  "cells": [
    {
      "cell_type": "markdown",
      "metadata": {
        "id": "view-in-github",
        "colab_type": "text"
      },
      "source": [
        "<a href=\"https://colab.research.google.com/github/wbandabarragan/quantum-mechanics-msc/blob/main/homework/classwork-01-solutions.ipynb\" target=\"_parent\"><img src=\"https://colab.research.google.com/assets/colab-badge.svg\" alt=\"Open In Colab\"/></a>"
      ]
    },
    {
      "cell_type": "markdown",
      "id": "dcbbcbc1",
      "metadata": {
        "id": "dcbbcbc1"
      },
      "source": [
        "# Classwork 1 - QM for Nanosciences"
      ]
    },
    {
      "cell_type": "markdown",
      "id": "aedbb722",
      "metadata": {
        "id": "aedbb722"
      },
      "source": [
        "## Names:"
      ]
    },
    {
      "cell_type": "markdown",
      "id": "8e266050",
      "metadata": {
        "id": "8e266050"
      },
      "source": [
        "### Deadline:\n",
        "\n",
        "Sunday 11th December 2022 (by 5pm)\n",
        "\n",
        "\n",
        "### Instructions:\n",
        "\n",
        "- The assignment should be written and submitted in groups of 2 people.\n",
        "\n",
        "\n",
        "- When you finish, please add your names, download your ipynb file, and send it to my email: wbanda@yachaytech.edu.ec"
      ]
    },
    {
      "cell_type": "markdown",
      "id": "02f7283e",
      "metadata": {
        "id": "02f7283e"
      },
      "source": [
        "### Problem 1\n",
        "\n",
        "1. Write python functions to compute the spectral radiance of a body for different frequencies, $\\nu$, and different (absolute) temperatures, $T$, according to the Rayleigh-Jeans and the Planck laws.\n",
        "\n",
        "\n",
        "2. Add a label indicating the UV side of the spectrum.\n",
        "\n",
        "\n",
        "3. Now, make the plots of spectral radiance versus wavelength, also for both laws.\n",
        "\n",
        "\n",
        "4. Repeat the plot adding markers to show the expectation values according to Wien's displacement law for a couple of temperature-wavelength pairs."
      ]
    },
    {
      "cell_type": "code",
      "source": [
        "# Importing libraries\n",
        "import numpy as np\n",
        "import matplotlib.pyplot as plt\n",
        "\n",
        "# Import scipy to access physical constants\n",
        "import scipy.constants as cte"
      ],
      "metadata": {
        "id": "FeXNH7h0dgln"
      },
      "id": "FeXNH7h0dgln",
      "execution_count": null,
      "outputs": []
    },
    {
      "cell_type": "markdown",
      "source": [
        "### Rayleigh-Jeans law (classical equation):\n",
        "\n",
        "$$B_{\\lambda}= \\frac{2ck_BT}{\\lambda^4} $$\n",
        "\n"
      ],
      "metadata": {
        "id": "41Q1dGSid8QA"
      },
      "id": "41Q1dGSid8QA"
    },
    {
      "cell_type": "code",
      "source": [
        "# Check constants\n",
        "# Documentation: https://docs.scipy.org/doc/scipy/reference/constants.html\n",
        "\n",
        "print(cte.c) # speed of light in m/s\n",
        "print(cte.k) # Boltzmann constant in SI units J/K"
      ],
      "metadata": {
        "colab": {
          "base_uri": "https://localhost:8080/"
        },
        "id": "71jFZ3hNdgxS",
        "outputId": "8a8168e0-7c28-400c-c0b4-48a5f804d4e3"
      },
      "id": "71jFZ3hNdgxS",
      "execution_count": null,
      "outputs": [
        {
          "output_type": "stream",
          "name": "stdout",
          "text": [
            "299792458.0\n",
            "1.380649e-23\n"
          ]
        }
      ]
    },
    {
      "cell_type": "code",
      "source": [
        "# Vector for wavelengths (lambda values)\n",
        "\n",
        "lb = np.arange(1.e-9, 5000.e-9, 1.e-9) # 1m=1.e-9nm\n",
        "\n",
        "# Assign one single value to the temperature\n",
        "\n",
        "tp = 5800 # in K"
      ],
      "metadata": {
        "id": "sB5-71stiMrv"
      },
      "id": "sB5-71stiMrv",
      "execution_count": null,
      "outputs": []
    },
    {
      "cell_type": "code",
      "source": [
        "c  = cte.c # fix light speed\n",
        "kb = cte.k # fix Boltzmann constant\n",
        "\n",
        "# Define function for spectral radiance\n",
        "\n",
        "def rayleigh(lb, tp):\n",
        "\n",
        "  B_l = (2*c*kb*tp)/(lb**4) #spectral radiance in SI units\n",
        "\n",
        "  return B_l # values that we want the function to output"
      ],
      "metadata": {
        "id": "-bF1Hb25iM1g"
      },
      "id": "-bF1Hb25iM1g",
      "execution_count": null,
      "outputs": []
    },
    {
      "cell_type": "code",
      "source": [
        "# Create Y axis\n",
        "\n",
        "rad = rayleigh(lb, tp)"
      ],
      "metadata": {
        "id": "dnXEmnE2liff"
      },
      "id": "dnXEmnE2liff",
      "execution_count": null,
      "outputs": []
    },
    {
      "cell_type": "code",
      "source": [
        "# Check sizes of the vectors\n",
        "\n",
        "print(lb.shape, rad.shape)"
      ],
      "metadata": {
        "colab": {
          "base_uri": "https://localhost:8080/"
        },
        "id": "2Qf93iB_liia",
        "outputId": "4f29e129-fff1-418c-a6f9-1b2d0c0e1017"
      },
      "id": "2Qf93iB_liia",
      "execution_count": null,
      "outputs": [
        {
          "output_type": "stream",
          "name": "stdout",
          "text": [
            "(4999,) (4999,)\n"
          ]
        }
      ]
    },
    {
      "cell_type": "code",
      "source": [
        "# Plotting\n",
        "\n",
        "# Creating figure environment with a customised size\n",
        "fig = plt.figure(figsize = (5,4))\n",
        "\n",
        "# We plot\n",
        "plt.plot(lb , rad, color='green', linestyle=':', label = f\"T={tp}K\") #, marker = 'o')\n",
        "\n",
        "# Labels\n",
        "plt.xlabel(r\"$\\lambda$\")\n",
        "plt.ylabel(r\"$B_{\\lambda}$\") # 'r' is to access latex notation\n",
        "\n",
        "# Add limits to axes\n",
        "#plt.xlim(0, 1000e-9)\n",
        "\n",
        "\n",
        "# Add labels\n",
        "plt.legend()\n",
        "\n",
        "# We display the plot\n",
        "plt.show()\n"
      ],
      "metadata": {
        "colab": {
          "base_uri": "https://localhost:8080/",
          "height": 292
        },
        "id": "j4IXlZ5glimF",
        "outputId": "6bdf64db-529f-4078-c7e3-bd51ac80a1aa"
      },
      "id": "j4IXlZ5glimF",
      "execution_count": null,
      "outputs": [
        {
          "output_type": "display_data",
          "data": {
            "text/plain": [
              "<Figure size 360x288 with 1 Axes>"
            ],
            "image/png": "[encoded data removed]"
          },
          "metadata": {
            "needs_background": "light"
          }
        }
      ]
    },
    {
      "cell_type": "markdown",
      "source": [
        "### Planck's law:\n",
        "\n",
        "$$B_\\lambda =\\frac{2hc^2}{\\lambda^5}\\frac 1{ \\exp\\left(\\frac{hc}{\\lambda k_\\mathrm B T}\\right) - 1}$$"
      ],
      "metadata": {
        "id": "R9p8_O1stCwd"
      },
      "id": "R9p8_O1stCwd"
    },
    {
      "cell_type": "code",
      "source": [
        "# Define Planck constant\n",
        "h = cte.h # J s\n",
        "\n",
        "print(h)\n",
        "\n",
        "# Planck function\n",
        "def planck(lb, tp):\n",
        "  \n",
        "  B_l = ((2*h*c**2)/(lb**5))*((1)/(np.exp((h*c)/(lb*kb*tp)) - 1)) #spectral radiance in SI units\n",
        "\n",
        "  return B_l # values that we want the function to output"
      ],
      "metadata": {
        "colab": {
          "base_uri": "https://localhost:8080/"
        },
        "id": "E6VVIzHnrK_m",
        "outputId": "5670577f-8b34-4400-aac3-52aa0c718835"
      },
      "id": "E6VVIzHnrK_m",
      "execution_count": null,
      "outputs": [
        {
          "output_type": "stream",
          "name": "stdout",
          "text": [
            "6.62607015e-34\n"
          ]
        }
      ]
    },
    {
      "cell_type": "code",
      "source": [
        "# Create Y axis\n",
        "\n",
        "rad2 = planck(lb, tp)"
      ],
      "metadata": {
        "colab": {
          "base_uri": "https://localhost:8080/"
        },
        "id": "jggCs2lKrLC_",
        "outputId": "a26329e0-d000-4533-86fd-a441ee160daf"
      },
      "id": "jggCs2lKrLC_",
      "execution_count": null,
      "outputs": [
        {
          "output_type": "stream",
          "name": "stderr",
          "text": [
            "<ipython-input-90-7c1ddda87ce5>:9: RuntimeWarning: overflow encountered in exp\n",
            "  B_l = ((2*h*c**2)/(lb**5))*((1)/(np.exp((h*c)/(lb*kb*tp)) - 1)) #spectral radiance in SI units\n"
          ]
        }
      ]
    },
    {
      "cell_type": "code",
      "source": [
        "# Plotting\n",
        "\n",
        "# Creating figure environment with a customised size\n",
        "fig = plt.figure(figsize = (5,4))\n",
        "\n",
        "# We plot\n",
        "plt.plot(lb , rad, color='green', linestyle=':', label = f\"T={tp}K\") #, marker = 'o')\n",
        "plt.plot(lb , rad2, color='red', linestyle=':', label = f\"T={tp}K\") #, marker = 'o')\n",
        "\n",
        "# Labels\n",
        "plt.xlabel(r\"$\\lambda\\,\\rm[m]$\")\n",
        "plt.ylabel(r\"$B_{\\lambda}\\,\\rm [W\\,sr^{-1}\\,m^{-3}]$\") # 'r' is to access latex notation\n",
        "\n",
        "# Add limits to axes\n",
        "#plt.xlim(0, 1000e-9)\n",
        "plt.ylim(0, 5.e13)\n",
        "\n",
        "\n",
        "# Add labels\n",
        "plt.legend()\n",
        "\n",
        "# We display the plot\n",
        "plt.show()\n"
      ],
      "metadata": {
        "colab": {
          "base_uri": "https://localhost:8080/",
          "height": 294
        },
        "id": "Z0YWjQjvrLFa",
        "outputId": "48100801-7d32-454c-da39-88c2458992b6"
      },
      "id": "Z0YWjQjvrLFa",
      "execution_count": null,
      "outputs": [
        {
          "output_type": "display_data",
          "data": {
            "text/plain": [
              "<Figure size 360x288 with 1 Axes>"
            ],
            "image/png": "[encoded data removed]"
          },
          "metadata": {
            "needs_background": "light"
          }
        }
      ]
    },
    {
      "cell_type": "code",
      "source": [
        "# Normalise axes to better units\n",
        "\n",
        "lb_axis = lb*1.e9 # this in the x-axis in [nm]\n",
        "\n",
        "# Below we work with the y-axis\n",
        "rad1_axis = rad*1.e-12 # this is in units of [KW/m^2/nm/sr]\n",
        "rad2_axis = rad2*1.e-12 # this is in units of [KW/m^2/nm/sr]"
      ],
      "metadata": {
        "id": "FNU9d4_-XYuF"
      },
      "id": "FNU9d4_-XYuF",
      "execution_count": null,
      "outputs": []
    },
    {
      "cell_type": "code",
      "source": [
        "# Plotting\n",
        "\n",
        "# Creating figure environment with a customised size\n",
        "fig = plt.figure(figsize = (6,5))\n",
        "\n",
        "# We plot\n",
        "plt.plot(lb_axis , rad1_axis, color='green', linestyle=':', label = f\"T={tp}K\") #, marker = 'o')\n",
        "plt.plot(lb_axis , rad2_axis, color='red', linestyle=':', label = f\"T={tp}K\") #, marker = 'o')\n",
        "\n",
        "# Labels\n",
        "plt.xlabel(r\"$\\lambda\\,\\rm[nm]$\")\n",
        "plt.ylabel(r\"$B_{\\lambda}\\,\\rm [kW\\,sr^{-1}\\,m^{-2}\\,nm^{-1}]$\") # 'r' is to access latex notation\n",
        "\n",
        "# Add limits to axes\n",
        "plt.xlim(0, 5000)\n",
        "plt.ylim(0, 1.4e1)\n",
        "\n",
        "\n",
        "# Add labels\n",
        "plt.legend()\n",
        "\n",
        "# We display the plot\n",
        "plt.show()\n"
      ],
      "metadata": {
        "colab": {
          "base_uri": "https://localhost:8080/",
          "height": 342
        },
        "id": "NfSLCU7PXY68",
        "outputId": "ba4cbfe5-bcf4-4cab-d10d-5b1d2b8e60c8"
      },
      "id": "NfSLCU7PXY68",
      "execution_count": null,
      "outputs": [
        {
          "output_type": "display_data",
          "data": {
            "text/plain": [
              "<Figure size 432x360 with 1 Axes>"
            ],
            "image/png": "[encoded data removed]"
          },
          "metadata": {
            "needs_background": "light"
          }
        }
      ]
    },
    {
      "cell_type": "code",
      "source": [
        "# Define Wien's displacement law\n",
        "\n",
        "# Fix b\n",
        "\n",
        "b = 2.898e-3 # in meter*Kelvin\n",
        "\n",
        "def wien(tp):\n",
        "\n",
        "  # Peak lambda\n",
        "  l_max = b/tp # in m\n",
        "\n",
        "  return l_max"
      ],
      "metadata": {
        "id": "syAY0NOfaxq5"
      },
      "id": "syAY0NOfaxq5",
      "execution_count": null,
      "outputs": []
    },
    {
      "cell_type": "code",
      "source": [
        "# Print the value of wavelength\n",
        "\n",
        "lm = wien(tp)\n",
        "\n",
        "print(tp, lm)"
      ],
      "metadata": {
        "colab": {
          "base_uri": "https://localhost:8080/"
        },
        "id": "O5tyipXibYn9",
        "outputId": "aaf05f5f-632c-44ef-c521-dd140af7f071"
      },
      "id": "O5tyipXibYn9",
      "execution_count": null,
      "outputs": [
        {
          "output_type": "stream",
          "name": "stdout",
          "text": [
            "5800 4.996551724137931e-07\n"
          ]
        }
      ]
    },
    {
      "cell_type": "code",
      "source": [
        "# Evaluate the spectral radiance in that value\n",
        "\n",
        "rad_lm = planck(lm, tp)\n",
        "\n",
        "print(tp, lm, rad_lm)"
      ],
      "metadata": {
        "colab": {
          "base_uri": "https://localhost:8080/"
        },
        "id": "FYHJw8nKcVho",
        "outputId": "0c01ecef-b28f-4027-f8ae-33d7cee9ffd6"
      },
      "id": "FYHJw8nKcVho",
      "execution_count": null,
      "outputs": [
        {
          "output_type": "stream",
          "name": "stdout",
          "text": [
            "5800 4.996551724137931e-07 26882237528442.22\n"
          ]
        }
      ]
    },
    {
      "cell_type": "code",
      "source": [
        "# Normalise to the same units as before\n",
        "\n",
        "lm_nm      = lm*1.e9 # in [nm]\n",
        "rad_lm_new = rad_lm*1.e-12 # in [kW/m^2/sr/nm]\n",
        "\n",
        "print(tp, lm_nm, rad_lm_new)"
      ],
      "metadata": {
        "colab": {
          "base_uri": "https://localhost:8080/"
        },
        "id": "KKMo57a0eqMI",
        "outputId": "571e503a-5977-4d60-87c7-b09efa628e00"
      },
      "id": "KKMo57a0eqMI",
      "execution_count": null,
      "outputs": [
        {
          "output_type": "stream",
          "name": "stdout",
          "text": [
            "5800 499.65517241379314 26.882237528442218\n"
          ]
        }
      ]
    },
    {
      "cell_type": "code",
      "source": [
        "# Plotting\n",
        "\n",
        "# Creating figure environment with a customised size\n",
        "fig = plt.figure(figsize = (6,5))\n",
        "\n",
        "# We plot\n",
        "plt.plot(lb_axis , rad1_axis, color='green', linestyle=':', label = f\"T={tp}K\") #, marker = 'o')\n",
        "plt.plot(lb_axis , rad2_axis, color='red', linestyle=':', label = f\"T={tp}K\") #, marker = 'o')\n",
        "\n",
        "# Add peak\n",
        "plt.plot(lm_nm, rad_lm_new, color='blue', marker = 'o', linestyle=\" \", label = \"Wien's peak\")\n",
        "\n",
        "# Labels\n",
        "plt.xlabel(r\"$\\lambda\\,\\rm[nm]$\")\n",
        "plt.ylabel(r\"$B_{\\lambda}\\,\\rm [kW\\,sr^{-1}\\,m^{-2}\\,nm^{-1}]$\") # 'r' is to access latex notation\n",
        "\n",
        "# Add limits to axes\n",
        "plt.xlim(0, 5000)\n",
        "plt.ylim(0, 1.4e1)\n",
        "\n",
        "\n",
        "# Add labels\n",
        "plt.legend()\n",
        "\n",
        "# We display the plot\n",
        "plt.show()\n"
      ],
      "metadata": {
        "colab": {
          "base_uri": "https://localhost:8080/",
          "height": 342
        },
        "id": "roekYqypcOCk",
        "outputId": "62417883-f7cb-41dd-d2da-a34425c9d109"
      },
      "id": "roekYqypcOCk",
      "execution_count": null,
      "outputs": [
        {
          "output_type": "display_data",
          "data": {
            "text/plain": [
              "<Figure size 432x360 with 1 Axes>"
            ],
            "image/png": "[encoded data removed]"
          },
          "metadata": {
            "needs_background": "light"
          }
        }
      ]
    },
    {
      "cell_type": "markdown",
      "id": "3112c07f",
      "metadata": {
        "id": "3112c07f"
      },
      "source": [
        "### Problem 2\n",
        "\n",
        "1. Make a plot of the Solar spectrum, which can be found here: https://github.com/wbandabarragan/quantum-mechanics-msc/blob/main/data/AM0AM1_5.csv\n",
        "\n",
        "    **Hint:** Don't forget to consider the solid angle (we are far away from the Sun!).\n",
        "\n",
        "\n",
        "2. Corroborate whether or not it follows Planck’s law. Is the Sun a black body?\n",
        "\n",
        "\n",
        "3. What is the temperature of the Sun?"
      ]
    },
    {
      "cell_type": "code",
      "source": [
        "# Importing libraries\n",
        "import pandas as pd"
      ],
      "metadata": {
        "id": "NH49o83wqUi4"
      },
      "id": "NH49o83wqUi4",
      "execution_count": null,
      "outputs": []
    },
    {
      "cell_type": "code",
      "source": [
        "# First let's mount our Drive folder:\n",
        "\n",
        "from google.colab import drive\n",
        "drive.mount('/content/drive')"
      ],
      "metadata": {
        "colab": {
          "base_uri": "https://localhost:8080/"
        },
        "id": "N2xJeXD6qUvY",
        "outputId": "18af78e0-7780-4de7-b61e-a86f5c5cc900"
      },
      "id": "N2xJeXD6qUvY",
      "execution_count": null,
      "outputs": [
        {
          "output_type": "stream",
          "name": "stdout",
          "text": [
            "Drive already mounted at /content/drive; to attempt to forcibly remount, call drive.mount(\"/content/drive\", force_remount=True).\n"
          ]
        }
      ]
    },
    {
      "cell_type": "code",
      "source": [
        "# To display contents in that folder\n",
        "\n",
        "!ls \"/content/drive/MyDrive/Colab Notebooks\""
      ],
      "metadata": {
        "colab": {
          "base_uri": "https://localhost:8080/"
        },
        "id": "yaU_rRkEsGPv",
        "outputId": "0870e21f-bcc9-4cb8-be79-78e2133e313f"
      },
      "id": "yaU_rRkEsGPv",
      "execution_count": null,
      "outputs": [
        {
          "output_type": "stream",
          "name": "stdout",
          "text": [
            "107-predictor-corrector-methods.ipynb  homework001_solutions.ipynb  QM5.ipynb\n",
            "AM0AM1_5.csv\t\t\t       homework-01.ipynb\t    QM6.ipynb\n",
            "classwork001_solutions.ipynb\t       Obsolete\n",
            "classwork-01.ipynb\t\t       QM0.ipynb\n"
          ]
        }
      ]
    },
    {
      "cell_type": "code",
      "source": [
        "# Reading CSV file\n",
        "\n",
        "data = pd.read_csv(\"/content/drive/MyDrive/Colab Notebooks/AM0AM1_5.csv\", sep=\",\")"
      ],
      "metadata": {
        "id": "YR9MHpuWsGTi"
      },
      "id": "YR9MHpuWsGTi",
      "execution_count": null,
      "outputs": []
    },
    {
      "cell_type": "code",
      "source": [
        "print(data)"
      ],
      "metadata": {
        "colab": {
          "base_uri": "https://localhost:8080/"
        },
        "id": "xR_8XcgOvke-",
        "outputId": "89518a0c-909d-4ccc-e384-428ecb3ceeea"
      },
      "id": "xR_8XcgOvke-",
      "execution_count": null,
      "outputs": [
        {
          "output_type": "stream",
          "name": "stdout",
          "text": [
            "      Wavelength (nm)  Extraterrestrial W*m-2*nm-1  Global tilt  W*m-2*nm-1  \\\n",
            "0               280.0                      0.08200             4.730900e-23   \n",
            "1               280.5                      0.09900             1.230700e-21   \n",
            "2               281.0                      0.15000             5.689500e-21   \n",
            "3               281.5                      0.21200             1.566200e-19   \n",
            "4               282.0                      0.26700             1.194600e-18   \n",
            "...               ...                          ...                      ...   \n",
            "1997           3980.0                      0.00884             7.387200e-03   \n",
            "1998           3985.0                      0.00880             7.432700e-03   \n",
            "1999           3990.0                      0.00878             7.372300e-03   \n",
            "2000           3995.0                      0.00870             7.210000e-03   \n",
            "2001           4000.0                      0.00868             7.104300e-03   \n",
            "\n",
            "      Direct+circumsolar W*m-2*nm-1  Wavelength (nm).1  Standard W*m-2*nm-1  \n",
            "0                      2.536100e-26              119.5             0.000062  \n",
            "1                      1.091700e-24              120.5             0.000561  \n",
            "2                      6.125300e-24              121.5             0.004901  \n",
            "3                      2.747900e-22              122.5             0.001184  \n",
            "4                      2.834600e-21              123.5             0.000048  \n",
            "...                             ...                ...                  ...  \n",
            "1997                   7.404900e-03                NaN                  NaN  \n",
            "1998                   7.450300e-03                NaN                  NaN  \n",
            "1999                   7.389400e-03                NaN                  NaN  \n",
            "2000                   7.226300e-03                NaN                  NaN  \n",
            "2001                   7.119900e-03                NaN                  NaN  \n",
            "\n",
            "[2002 rows x 6 columns]\n"
          ]
        }
      ]
    },
    {
      "cell_type": "code",
      "source": [
        "# Let's access the data\n",
        "\n",
        "wavelength = data[\"Wavelength (nm)\"]\n",
        "solarspect = data[\"Extraterrestrial W*m-2*nm-1\"]\n",
        "\n",
        "#print(np.array(solarspect))"
      ],
      "metadata": {
        "id": "Gr5YfTRcvkid"
      },
      "id": "Gr5YfTRcvkid",
      "execution_count": null,
      "outputs": []
    },
    {
      "cell_type": "code",
      "source": [
        "# Plotting\n",
        "\n",
        "# Creating figure environment with a customised size\n",
        "fig = plt.figure(figsize = (6,5))\n",
        "\n",
        "# We plot\n",
        "plt.plot(wavelength, solarspect, color='magenta', linestyle='-', label = \"Sun spectrum\")\n",
        "#plt.plot(lb_axis , rad1_axis, color='green', linestyle=':', label = f\"T={tp}K\") #, marker = 'o')\n",
        "#plt.plot(lb_axis , rad2_axis, color='red', linestyle=':', label = f\"T={tp}K\") #, marker = 'o')\n",
        "\n",
        "# Add peak\n",
        "#plt.plot(lm_nm, rad_lm_new, color='blue', marker = 'o', linestyle=\" \", label = \"Wien's peak\")\n",
        "\n",
        "# Labels\n",
        "plt.xlabel(r\"$\\lambda\\,\\rm[nm]$\")\n",
        "plt.ylabel(r\"$B_{\\lambda}\\,\\rm [W\\,m^{-2}\\,nm^{-1}]$\") # 'r' is to access latex notation\n",
        "\n",
        "# Add limits to axes\n",
        "#plt.xlim(0, 5000)\n",
        "#plt.ylim(0, 1.4e1)\n",
        "\n",
        "\n",
        "# Add labels\n",
        "plt.legend()\n",
        "\n",
        "# We display the plot\n",
        "plt.show()\n"
      ],
      "metadata": {
        "colab": {
          "base_uri": "https://localhost:8080/",
          "height": 338
        },
        "id": "J6Zp3Ckovkld",
        "outputId": "21620a86-4383-4c32-9067-f0529a9ae677"
      },
      "id": "J6Zp3Ckovkld",
      "execution_count": null,
      "outputs": [
        {
          "output_type": "display_data",
          "data": {
            "text/plain": [
              "<Figure size 432x360 with 1 Axes>"
            ],
            "image/png": "[encoded data removed]"
          },
          "metadata": {
            "needs_background": "light"
          }
        }
      ]
    },
    {
      "cell_type": "code",
      "source": [
        "# Convert Solar spectrum from W to kW\n",
        "\n",
        "solarspect_kW = solarspect/1.e3 # in [kW/m^2/nm]"
      ],
      "metadata": {
        "id": "SO4xGr_a43e7"
      },
      "id": "SO4xGr_a43e7",
      "execution_count": null,
      "outputs": []
    },
    {
      "cell_type": "code",
      "source": [
        "# Plotting\n",
        "\n",
        "# Creating figure environment with a customised size\n",
        "fig = plt.figure(figsize = (6,5))\n",
        "\n",
        "# We plot\n",
        "plt.plot(wavelength, solarspect_kW, color='magenta', linestyle='-', label = \"Sun spectrum\")\n",
        "#plt.plot(lb_axis , rad1_axis, color='green', linestyle=':', label = f\"T={tp}K\") #, marker = 'o')\n",
        "#plt.plot(lb_axis , rad2_axis, color='red', linestyle=':', label = f\"T={tp}K\") #, marker = 'o')\n",
        "\n",
        "# Add peak\n",
        "#plt.plot(lm_nm, rad_lm_new, color='blue', marker = 'o', linestyle=\" \", label = \"Wien's peak\")\n",
        "\n",
        "# Labels\n",
        "plt.xlabel(r\"$\\lambda\\,\\rm[nm]$\")\n",
        "plt.ylabel(r\"$B_{\\lambda}\\,\\rm [kW\\,m^{-2}\\,nm^{-1}]$\") # 'r' is to access latex notation\n",
        "\n",
        "# Add limits to axes\n",
        "#plt.xlim(0, 5000)\n",
        "#plt.ylim(0, 1.4e1)\n",
        "\n",
        "\n",
        "# Add labels\n",
        "plt.legend()\n",
        "\n",
        "# We display the plot\n",
        "plt.show()\n"
      ],
      "metadata": {
        "colab": {
          "base_uri": "https://localhost:8080/",
          "height": 338
        },
        "id": "LxHWOqt643re",
        "outputId": "035310e8-1023-4f45-c676-c7d0ce815b2c"
      },
      "id": "LxHWOqt643re",
      "execution_count": null,
      "outputs": [
        {
          "output_type": "display_data",
          "data": {
            "text/plain": [
              "<Figure size 432x360 with 1 Axes>"
            ],
            "image/png": "[encoded data removed]"
          },
          "metadata": {
            "needs_background": "light"
          }
        }
      ]
    },
    {
      "cell_type": "code",
      "source": [
        "# We calculate B_lambda considering the Sun size on the sky\n",
        "# https://en.wikipedia.org/wiki/Solid_angle\n",
        "\n",
        "rad1_axis_sr = rad1_axis*6.794e-5  # in [kW/m^2/nm]\n",
        "rad2_axis_sr = rad2_axis*6.794e-5  # in [kW/m^2/nm]"
      ],
      "metadata": {
        "id": "Fm9lFzOT6VUF"
      },
      "id": "Fm9lFzOT6VUF",
      "execution_count": null,
      "outputs": []
    },
    {
      "cell_type": "code",
      "source": [
        "# Plotting\n",
        "\n",
        "# Creating figure environment with a customised size\n",
        "fig = plt.figure(figsize = (6,5))\n",
        "\n",
        "# We plot\n",
        "plt.plot(wavelength, solarspect_kW, color='magenta', linestyle='-', label = \"Sun spectrum\")\n",
        "plt.plot(lb_axis , rad1_axis_sr, color='green', linestyle=':', label = f\"T={tp}K - Jeans law\") #, marker = 'o')\n",
        "plt.plot(lb_axis , rad2_axis_sr, color='red', linestyle=':', label = f\"T={tp}K - Planck law\") #, marker = 'o')\n",
        "\n",
        "# Add peak\n",
        "#plt.plot(lm_nm, rad_lm_new, color='blue', marker = 'o', linestyle=\" \", label = \"Wien's peak\")\n",
        "\n",
        "# Labels\n",
        "plt.xlabel(r\"$\\lambda\\,\\rm[nm]$\")\n",
        "plt.ylabel(r\"$B_{\\lambda}\\,\\rm [kW\\,m^{-2}\\,nm^{-1}]$\") # 'r' is to access latex notation\n",
        "\n",
        "# Add limits to axes\n",
        "plt.xlim(0, 5000)\n",
        "plt.ylim(0, 2.5e-3)\n",
        "\n",
        "# Add labels\n",
        "plt.legend()\n",
        "\n",
        "# We display the plot\n",
        "plt.show()\n"
      ],
      "metadata": {
        "colab": {
          "base_uri": "https://localhost:8080/",
          "height": 342
        },
        "id": "3_cOzTkz6Vdu",
        "outputId": "b5fcb41d-5806-43a0-82d3-13ac25ac68aa"
      },
      "id": "3_cOzTkz6Vdu",
      "execution_count": null,
      "outputs": [
        {
          "output_type": "display_data",
          "data": {
            "text/plain": [
              "<Figure size 432x360 with 1 Axes>"
            ],
            "image/png": "[encoded data removed]"
          },
          "metadata": {
            "needs_background": "light"
          }
        }
      ]
    }
  ],
  "metadata": {
    "kernelspec": {
      "display_name": "Python 3 (ipykernel)",
      "language": "python",
      "name": "python3"
    },
    "language_info": {
      "codemirror_mode": {
        "name": "ipython",
        "version": 3
      },
      "file_extension": ".py",
      "mimetype": "text/x-python",
      "name": "python",
      "nbconvert_exporter": "python",
      "pygments_lexer": "ipython3",
      "version": "3.8.13"
    },
    "colab": {
      "provenance": [],
      "include_colab_link": true
    }
  },
  "nbformat": 4,
  "nbformat_minor": 5
}