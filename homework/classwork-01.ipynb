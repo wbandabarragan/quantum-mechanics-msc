{
  "cells": [
    {
      "cell_type": "markdown",
      "metadata": {
        "id": "view-in-github",
        "colab_type": "text"
      },
      "source": [
        "<a href=\"https://colab.research.google.com/github/wbandabarragan/quantum-mechanics-msc/blob/main/homework/classwork-01.ipynb\" target=\"_parent\"><img src=\"https://colab.research.google.com/assets/colab-badge.svg\" alt=\"Open In Colab\"/></a>"
      ]
    },
    {
      "cell_type": "markdown",
      "id": "dcbbcbc1",
      "metadata": {
        "id": "dcbbcbc1"
      },
      "source": [
        "# Classwork 1 - QM for Nanosciences"
      ]
    },
    {
      "cell_type": "markdown",
      "id": "aedbb722",
      "metadata": {
        "id": "aedbb722"
      },
      "source": [
        "## Names:"
      ]
    },
    {
      "cell_type": "markdown",
      "id": "8e266050",
      "metadata": {
        "id": "8e266050"
      },
      "source": [
        "### Deadline:\n",
        "\n",
        "Sunday 11th December 2022 (by 5pm)\n",
        "\n",
        "\n",
        "### Instructions:\n",
        "\n",
        "- The assignment should be written and submitted in groups of 2 people.\n",
        "\n",
        "\n",
        "- When you finish, please add your names, download your ipynb file, and send it to my email: wbanda@yachaytech.edu.ec"
      ]
    },
    {
      "cell_type": "markdown",
      "id": "02f7283e",
      "metadata": {
        "id": "02f7283e"
      },
      "source": [
        "### Problem 1\n",
        "\n",
        "1. Write python functions to compute the spectral radiance of a body for different frequencies, $\\nu$, and different (absolute) temperatures, $T$, according to the Rayleigh-Jeans and the Planck laws.\n",
        "\n",
        "\n",
        "2. Add a label indicating the UV side of the spectrum.\n",
        "\n",
        "\n",
        "3. Now, make the plots of spectral radiance versus wavelength, also for both laws.\n",
        "\n",
        "\n",
        "4. Repeat the plot adding markers to show the expectation values according to Wien's displacement law for a couple of temperature-wavelength pairs."
      ]
    },
    {
      "cell_type": "code",
      "source": [
        "# Importing libraries\n",
        "import numpy as np\n",
        "import matplotlib.pyplot as plt\n",
        "\n",
        "# Import scipy to access physical constants\n",
        "import scipy.constants as cte"
      ],
      "metadata": {
        "id": "FeXNH7h0dgln"
      },
      "id": "FeXNH7h0dgln",
      "execution_count": 2,
      "outputs": []
    },
    {
      "cell_type": "markdown",
      "source": [
        "### Rayleigh-Jeans law (classical equation):\n",
        "\n",
        "$$B_{\\lambda}= \\frac{2ck_BT}{\\lambda^4} $$\n",
        "\n"
      ],
      "metadata": {
        "id": "41Q1dGSid8QA"
      },
      "id": "41Q1dGSid8QA"
    },
    {
      "cell_type": "code",
      "source": [
        "# Check constants\n",
        "# Documentation: https://docs.scipy.org/doc/scipy/reference/constants.html\n",
        "\n",
        "print(cte.c) # speed of light in m/s\n",
        "print(cte.k) # Boltzmann constant in SI units J/K"
      ],
      "metadata": {
        "colab": {
          "base_uri": "https://localhost:8080/"
        },
        "id": "71jFZ3hNdgxS",
        "outputId": "fbd85f69-7f43-4500-a441-917b0b6c7bdc"
      },
      "id": "71jFZ3hNdgxS",
      "execution_count": 6,
      "outputs": [
        {
          "output_type": "stream",
          "name": "stdout",
          "text": [
            "299792458.0\n",
            "1.380649e-23\n"
          ]
        }
      ]
    },
    {
      "cell_type": "code",
      "source": [
        "# Vector for wavelengths (lambda values)\n",
        "\n",
        "lb = np.arange(1.e-9, 5000.e-9, 1.e-9) # 1m=1.e-9nm\n",
        "\n",
        "# Assign one single value to the temperature\n",
        "\n",
        "tp = 5000 # in K"
      ],
      "metadata": {
        "id": "sB5-71stiMrv"
      },
      "id": "sB5-71stiMrv",
      "execution_count": 23,
      "outputs": []
    },
    {
      "cell_type": "code",
      "source": [
        "c  = cte.c # fix light speed\n",
        "kb = cte.k # fix Boltzmann constant\n",
        "\n",
        "# Define function for spectral radiance\n",
        "\n",
        "def rayleigh(lb, tp):\n",
        "\n",
        "  B_l = (2*c*kb*tp)/(lb**4) #spectral radiance in SI units\n",
        "\n",
        "  return B_l # values that we want the function to output"
      ],
      "metadata": {
        "id": "-bF1Hb25iM1g"
      },
      "id": "-bF1Hb25iM1g",
      "execution_count": 24,
      "outputs": []
    },
    {
      "cell_type": "code",
      "source": [
        "# Create Y axis\n",
        "\n",
        "rad = rayleigh(lb, tp)"
      ],
      "metadata": {
        "id": "dnXEmnE2liff"
      },
      "id": "dnXEmnE2liff",
      "execution_count": 25,
      "outputs": []
    },
    {
      "cell_type": "code",
      "source": [
        "# Check sizes of the vectors\n",
        "\n",
        "print(lb.shape, rad.shape)"
      ],
      "metadata": {
        "colab": {
          "base_uri": "https://localhost:8080/"
        },
        "id": "2Qf93iB_liia",
        "outputId": "62b09ed5-5360-4d72-cb31-9f22a9e0b928"
      },
      "id": "2Qf93iB_liia",
      "execution_count": 26,
      "outputs": [
        {
          "output_type": "stream",
          "name": "stdout",
          "text": [
            "(4999,) (4999,)\n"
          ]
        }
      ]
    },
    {
      "cell_type": "code",
      "source": [
        "# Plotting\n",
        "\n",
        "# Creating figure environment with a customised size\n",
        "fig = plt.figure(figsize = (5,4))\n",
        "\n",
        "# We plot\n",
        "plt.plot(lb , rad, color='green', linestyle=':', label = f\"T={tp}K\") #, marker = 'o')\n",
        "\n",
        "# Labels\n",
        "plt.xlabel(r\"$\\lambda$\")\n",
        "plt.ylabel(r\"$B_{\\lambda}$\") # 'r' is to access latex notation\n",
        "\n",
        "# Add limits to axes\n",
        "#plt.xlim(0, 1000e-9)\n",
        "\n",
        "\n",
        "# Add labels\n",
        "plt.legend()\n",
        "\n",
        "# We display the plot\n",
        "plt.show()\n"
      ],
      "metadata": {
        "colab": {
          "base_uri": "https://localhost:8080/",
          "height": 292
        },
        "id": "j4IXlZ5glimF",
        "outputId": "fe132409-d5d1-4483-d9f7-4d16c0ac255d"
      },
      "id": "j4IXlZ5glimF",
      "execution_count": 29,
      "outputs": [
        {
          "output_type": "display_data",
          "data": {
            "text/plain": [
              "<Figure size 360x288 with 1 Axes>"
            ],
            "image/png": "[encoded data removed]"
          },
          "metadata": {
            "needs_background": "light"
          }
        }
      ]
    },
    {
      "cell_type": "markdown",
      "source": [
        "### Planck's law:\n",
        "\n",
        "$$B_\\lambda =\\frac{2hc^2}{\\lambda^5}\\frac 1{ \\exp\\left(\\frac{hc}{\\lambda k_\\mathrm B T}\\right) - 1}$$"
      ],
      "metadata": {
        "id": "R9p8_O1stCwd"
      },
      "id": "R9p8_O1stCwd"
    },
    {
      "cell_type": "code",
      "source": [
        "# Define Planck constant\n",
        "h = cte.h # J s\n",
        "\n",
        "print(h)\n",
        "\n",
        "# Planck function\n",
        "def planck(lb, tp):\n",
        "  \n",
        "  B_l = ((2*h*c**2)/(lb**5))*((1)/(np.exp((h*c)/(lb*kb*tp)) - 1)) #spectral radiance in SI units\n",
        "\n",
        "  return B_l # values that we want the function to output"
      ],
      "metadata": {
        "colab": {
          "base_uri": "https://localhost:8080/"
        },
        "id": "E6VVIzHnrK_m",
        "outputId": "711690f9-19c7-4fd1-e54c-ac8da1d52630"
      },
      "id": "E6VVIzHnrK_m",
      "execution_count": 39,
      "outputs": [
        {
          "output_type": "stream",
          "name": "stdout",
          "text": [
            "6.62607015e-34\n"
          ]
        }
      ]
    },
    {
      "cell_type": "code",
      "source": [
        "# Create Y axis\n",
        "\n",
        "rad2 = planck(lb, tp)"
      ],
      "metadata": {
        "colab": {
          "base_uri": "https://localhost:8080/"
        },
        "id": "jggCs2lKrLC_",
        "outputId": "a42f94cb-4818-45ad-a325-c4bdde94b928"
      },
      "id": "jggCs2lKrLC_",
      "execution_count": 40,
      "outputs": [
        {
          "output_type": "stream",
          "name": "stderr",
          "text": [
            "<ipython-input-39-7c1ddda87ce5>:9: RuntimeWarning: overflow encountered in exp\n",
            "  B_l = ((2*h*c**2)/(lb**5))*((1)/(np.exp((h*c)/(lb*kb*tp)) - 1)) #spectral radiance in SI units\n"
          ]
        }
      ]
    },
    {
      "cell_type": "code",
      "source": [
        "# Plotting\n",
        "\n",
        "# Creating figure environment with a customised size\n",
        "fig = plt.figure(figsize = (5,4))\n",
        "\n",
        "# We plot\n",
        "plt.plot(lb , rad, color='green', linestyle=':', label = f\"T={tp}K\") #, marker = 'o')\n",
        "plt.plot(lb , rad2, color='red', linestyle=':', label = f\"T={tp}K\") #, marker = 'o')\n",
        "\n",
        "# Labels\n",
        "plt.xlabel(r\"$\\lambda$\")\n",
        "plt.ylabel(r\"$B_{\\lambda}$\") # 'r' is to access latex notation\n",
        "\n",
        "# Add limits to axes\n",
        "#plt.xlim(0, 1000e-9)\n",
        "plt.ylim(0, 5.e13)\n",
        "\n",
        "\n",
        "# Add labels\n",
        "plt.legend()\n",
        "\n",
        "# We display the plot\n",
        "plt.show()\n"
      ],
      "metadata": {
        "colab": {
          "base_uri": "https://localhost:8080/",
          "height": 292
        },
        "id": "Z0YWjQjvrLFa",
        "outputId": "0f404771-65c1-4e88-b919-bf99dd56177a"
      },
      "id": "Z0YWjQjvrLFa",
      "execution_count": 50,
      "outputs": [
        {
          "output_type": "display_data",
          "data": {
            "text/plain": [
              "<Figure size 360x288 with 1 Axes>"
            ],
            "image/png": "[encoded data removed]"
          },
          "metadata": {
            "needs_background": "light"
          }
        }
      ]
    },
    {
      "cell_type": "markdown",
      "id": "3112c07f",
      "metadata": {
        "id": "3112c07f"
      },
      "source": [
        "### Problem 2\n",
        "\n",
        "1. Make a plot of the Solar spectrum, which can be found here: https://github.com/wbandabarragan/quantum-mechanics-msc/blob/main/data/AM0AM1_5.csv\n",
        "\n",
        "    **Hint:** Don't forget to consider the solid angle (we are far away from the Sun!).\n",
        "\n",
        "\n",
        "2. Corroborate whether or not it follows Planck’s law. Is the Sun a black body?\n",
        "\n",
        "\n",
        "3. What is the temperature of the Sun?"
      ]
    },
    {
      "cell_type": "markdown",
      "id": "d78d85db",
      "metadata": {
        "id": "d78d85db"
      },
      "source": [
        "### Problem 3: Compton scattering\n",
        "\n",
        "Suppose we have an experiment in which monochromatic light is scattered by an electron. Use python functions to carry. out the following calculations:\n",
        "\n",
        "1. Find the shift in the wavelength of the light when the scattering angle is $30^{\\circ}$.\n",
        "\n",
        "\n",
        "2. If the incident light has a $\\lambda=600\\,\\rm nm$ (i.e. photons are in the visible region), what is the fractional increase in the wavelength, $\\frac{\\Delta\\lambda}{\\lambda}$?\n",
        "\n",
        "\n",
        "3. If the incident light has a $\\lambda=0.05\\,\\rm nm$ (i.e. photons are in the X-ray region), what is the fractional increase in the wavelength, $\\frac{\\Delta\\lambda}{\\lambda}$?\n",
        "\n",
        "\n",
        "4. Briefly exaplin, why were X-rays used by Compton in his experiments?"
      ]
    },
    {
      "cell_type": "markdown",
      "id": "b1e8d52b",
      "metadata": {
        "id": "b1e8d52b"
      },
      "source": [
        "### Problem 4: Compton and de Broglie wavelengths\n",
        "\n",
        "1. Calculate the Compton wavelength of an electron.\n",
        "\n",
        "\n",
        "2. Calculate the Compton wavelength of a proton.\n",
        "\n",
        "\n",
        "3. What can happen if you shine the above electron with a photon with that wavelength? Why?\n",
        "\n",
        "\n",
        "4. Calculate the de Broglie wavelength of a (macro)particle of diameter $10\\,\\rm\\mu m$ with a mass of $m=10^{-12}\\,\\rm kg$ that is moving at a speed of $50\\,\\rm mm\\,s^{-1}$.\n",
        "\n",
        "\n",
        "5. Based on the result above, are the wave properties of matter relevant in the macroscopic world? Why?"
      ]
    },
    {
      "cell_type": "markdown",
      "id": "37335f14",
      "metadata": {
        "id": "37335f14"
      },
      "source": [
        "### Problem 5: The photoelectric effect\n",
        "\n",
        "Consider an experiment of the photoelectric effect. The experiment consists of setting up an electric circuit embedding plates of different metals. We illuminate the first plate with a beam of photons of certain wavelength, $\\lambda$, and as the photons interact with the metal plate, electrons are ejected from it. The electrons then reach the second plate and an electric current emerges. To prevent these electrons from reaching the second plate, we can increase the voltage until the electric current becomes zero in the circuit. The voltage value at which this happens is called \"stopping potential\", $V_0$, which is defined as the potential needed to stop the photo-electrons with the largest kinetic energy (so $K_{max}=e\\,V_0$) at a specific wavelength $\\lambda$.\n",
        "\n",
        "Report all the answers in SI units, and recall that the Planck constant is $h=6.626\\times 10^{-34}\\,\\rm J\\,s$, the speed of light is $c=3\\times 10^{8}\\,\\rm m\\,s^{-1}$, the electron mass is $m_e=9.11\\times 10^{-31}\\,\\rm kg$, and the electron charge in $e=1.6\\times 10^{-19}\\,\\rm c$.\n",
        "\n",
        "### **1. Experiment (4 points):**\n",
        "\n",
        "Carry out the experiment and collect $10$ data points for $2$ different metals using this applet:\n",
        "\n",
        "https://applets.kcvs.ca/photoelectricEffect/PhotoElectric.html\n",
        "\n",
        "To collect the data, choose a metal, fix a wavelength, and vary the voltage until the current becomes zero. When this happens, push \"record data points\". Then, vary the wavelength and repeat the process. When you have 10 data points for the first metal, choose another metal and repeat the experiment. At the end, you should have a data table with 20 data points, 10 for each metal. Export the CSV file with the data, place it into your working directory.\n",
        "\n",
        "\n",
        "### **2. Data I/O (4 points):**\n",
        "\n",
        "Using a Python notebook, open and read the CSV data file containing the data from the experiment, and make two high-quality labeled scattered plots, one for each metal, with the maximum kinetic energy ($K_{\\rm max}$) in the Y-axis and frequency on the X-axis. Note: use markers to display the experimental data.\n",
        "\n",
        "\n",
        "### **3. Regression and fitting (4 points):**\n",
        "\n",
        "(a) For each metal, define a good model to describe the data. Then, use Python functions to carry out a regression and find a funtion that fits the data. \n",
        "\n",
        "(b) Report the equations for each metal and make two high-quality labeled plots, one for each metal, containing the experimental data and the fitting function. Note: Use markers for the experimental data and lines for the fitting functions.\n",
        "\n",
        "(c) Then, make a new figure combining the data and fitting functions for both metals. Which metal has a higher cutoff frequency? Remember that the cutoff frequency is the critical frequency needed to remove electrons from the metal piece, below it we do not remove any.\n",
        "\n",
        "\n",
        "(d) Compare the values of the slopes of the fitted curves. What do you find? What does the slope of the curves represent?\n",
        "\n",
        "\n",
        "### **4. Calculations (4 points):**\n",
        "\n",
        "Using the fitting functions calculated in (3), carry out the following calculations in Python:\n",
        "\n",
        "a) Calculate the work function, $\\phi$, for each metal, and the relative errors with respect to the known values (use the Internet to research what these values are). Remember that the work function is the (threshold) energy needed to remove electrons from the metal piece.\n",
        "\n",
        "\n",
        "b) Calculate the cutoff wavelength, $\\lambda_{\\rm cutoff}$, for each metal. Remember that the cutoff wavelength is the critical wavelength needed to remove electrons from the metal piece, above which we do not remove any.\n",
        "\n",
        "\n",
        "c) Calculate the maximum speed of the electrons ejected from the metal pieces for two light beams of $\\lambda_1=300\\rm nm$ and $\\lambda_2=700\\rm nm$.\n",
        "\n",
        "\n",
        "d) Make a combined graph of $K_{\\rm max}$ versus $\\lambda$, for both metals, labeling the data points for both light beams."
      ]
    }
  ],
  "metadata": {
    "kernelspec": {
      "display_name": "Python 3 (ipykernel)",
      "language": "python",
      "name": "python3"
    },
    "language_info": {
      "codemirror_mode": {
        "name": "ipython",
        "version": 3
      },
      "file_extension": ".py",
      "mimetype": "text/x-python",
      "name": "python",
      "nbconvert_exporter": "python",
      "pygments_lexer": "ipython3",
      "version": "3.8.13"
    },
    "colab": {
      "provenance": [],
      "include_colab_link": true
    }
  },
  "nbformat": 4,
  "nbformat_minor": 5
}