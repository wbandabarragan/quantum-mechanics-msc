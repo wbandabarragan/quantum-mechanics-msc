{
  "cells": [
    {
      "cell_type": "markdown",
      "metadata": {
        "id": "view-in-github",
        "colab_type": "text"
      },
      "source": [
        "<a href=\"https://colab.research.google.com/github/wbandabarragan/quantum-mechanics-msc/blob/main/homework/classwork-03.ipynb\" target=\"_parent\"><img src=\"https://colab.research.google.com/assets/colab-badge.svg\" alt=\"Open In Colab\"/></a>"
      ]
    },
    {
      "cell_type": "markdown",
      "id": "dcbbcbc1",
      "metadata": {
        "id": "dcbbcbc1"
      },
      "source": [
        "# Classwork 3 - QM for Nanosciences"
      ]
    },
    {
      "cell_type": "markdown",
      "id": "aedbb722",
      "metadata": {
        "id": "aedbb722"
      },
      "source": [
        "## Names:"
      ]
    },
    {
      "cell_type": "markdown",
      "id": "8e266050",
      "metadata": {
        "id": "8e266050"
      },
      "source": [
        "### Deadline:\n",
        "\n",
        "Sunday 18th December 2022 (by 5pm)\n",
        "\n",
        "\n",
        "### Instructions:\n",
        "\n",
        "- The assignment should be written and submitted in groups of 2 people.\n",
        "\n",
        "\n",
        "- When you finish, please add your names, download your ipynb file, and send it to my email: wbanda@yachaytech.edu.ec"
      ]
    },
    {
      "cell_type": "markdown",
      "id": "d78d85db",
      "metadata": {
        "id": "d78d85db"
      },
      "source": [
        "### Problem 1: Compton scattering\n",
        "\n",
        "Suppose we have an experiment in which monochromatic light is scattered by an electron. Use python functions to carry out the following calculations:\n",
        "\n",
        "1. Find the shift in the wavelength of the light when the scattering angle is $30^{\\circ}$.\n",
        "\n",
        "\n",
        "2. If the incident light has a $\\lambda=600\\,\\rm nm$ (i.e. photons are in the visible region), what is the fractional increase in the wavelength, $\\frac{\\Delta\\lambda}{\\lambda}$?\n",
        "\n",
        "\n",
        "3. If the incident light has a $\\lambda=0.05\\,\\rm nm$ (i.e. photons are in the X-ray region), what is the fractional increase in the wavelength, $\\frac{\\Delta\\lambda}{\\lambda}$?\n",
        "\n",
        "\n",
        "4. Briefly exaplin, why were X-rays used by Compton in his experiments?"
      ]
    },
    {
      "cell_type": "markdown",
      "id": "b1e8d52b",
      "metadata": {
        "id": "b1e8d52b"
      },
      "source": [
        "### Problem 3: Compton and de Broglie wavelengths\n",
        "\n",
        "Create and use python functions to: \n",
        "\n",
        "1. Calculate the Compton wavelength of an electron.\n",
        "\n",
        "\n",
        "2. Calculate the Compton wavelength of a proton.\n",
        "\n",
        "\n",
        "3. What can happen if you shine the above electron with a photon with that wavelength? Why?\n",
        "\n",
        "\n",
        "4. Calculate the de Broglie wavelength of a (macro)particle of diameter $10\\,\\rm\\mu m$ with a mass of $m=10^{-12}\\,\\rm kg$ that is moving at a speed of $50\\,\\rm mm\\,s^{-1}$.\n",
        "\n",
        "\n",
        "5. Based on the result above, are the wave properties of matter relevant in the macroscopic world? Why?"
      ]
    },
    {
      "cell_type": "code",
      "source": [],
      "metadata": {
        "id": "sP60oPJjphE4"
      },
      "id": "sP60oPJjphE4",
      "execution_count": null,
      "outputs": []
    }
  ],
  "metadata": {
    "kernelspec": {
      "display_name": "Python 3 (ipykernel)",
      "language": "python",
      "name": "python3"
    },
    "language_info": {
      "codemirror_mode": {
        "name": "ipython",
        "version": 3
      },
      "file_extension": ".py",
      "mimetype": "text/x-python",
      "name": "python",
      "nbconvert_exporter": "python",
      "pygments_lexer": "ipython3",
      "version": "3.8.13"
    },
    "colab": {
      "provenance": [],
      "include_colab_link": true
    }
  },
  "nbformat": 4,
  "nbformat_minor": 5
}